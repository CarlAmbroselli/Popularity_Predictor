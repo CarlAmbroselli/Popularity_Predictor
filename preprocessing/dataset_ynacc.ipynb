{
 "cells": [
  {
   "cell_type": "code",
   "execution_count": 11,
   "metadata": {
    "collapsed": true
   },
   "outputs": [],
   "source": [
    "import numpy as np\n",
    "import pandas as pd"
   ]
  },
  {
   "cell_type": "code",
   "execution_count": 3,
   "metadata": {
    "collapsed": true
   },
   "outputs": [],
   "source": [
    "data = pd.read_csv('../data/raw/ydata-ynacc-v1_0_expert_annotations.tsv', sep='\\t')"
   ]
  },
  {
   "cell_type": "code",
   "execution_count": 36,
   "metadata": {},
   "outputs": [],
   "source": [
    "data['y_persuasive'] = data['persuasiveness'].str.contains('Persuasive')\n",
    "data['y_audience'] = data['intendedaudience'].str.contains('Reply to a specific commenter')\n",
    "data['y_agreement_with_commenter'] = data['commentagreement'].str.contains('Agreement with commenter')\n",
    "data['y_informative'] = data['tone'].str.contains('Informative')\n",
    "data['y_mean'] = data['tone'].str.contains('Mean')\n",
    "data['y_controversial'] = data['tone'].str.contains('Controversial')\n",
    "data['y_disagreement_with_commenter'] = data['commentagreement'].str.contains('Disagreement with commenter')\n",
    "data['y_off_topic_with_article'] = data['topic'].str.contains('Off-topic with article')\n",
    "data['y_sentiment_neutral'] = data['sentiment'].str.contains('neutral')\n",
    "data['y_sentiment_positive'] = data['sentiment'].str.contains('positive')\n",
    "data['y_sentiment_negative'] = data['sentiment'].str.contains('negative')\n",
    "data['y_sentiment_mixed'] = data['sentiment'].str.contains('mixed')"
   ]
  },
  {
   "cell_type": "code",
   "execution_count": 39,
   "metadata": {},
   "outputs": [],
   "source": [
    "tiny = data.drop_duplicates(['y_persuasive', 'y_audience', 'y_agreement_with_commenter', 'y_informative', 'y_mean', 'y_controversial', 'y_disagreement_with_commenter', 'y_off_topic_with_article', 'y_sentiment_neutral', 'y_sentiment_positive', 'y_sentiment_negative', 'y_sentiment_mixed'])"
   ]
  },
  {
   "cell_type": "code",
   "execution_count": 72,
   "metadata": {},
   "outputs": [],
   "source": [
    "def valid_dataset(df):\n",
    "    return np.sum(df['y_persuasive']) >= 1 and np.sum(df['y_audience']) >= 1 and np.sum(df['y_agreement_with_commenter']) >= 1 and np.sum(df['y_informative']) >= 1 and np.sum(df['y_mean']) >= 1 and np.sum(df['y_controversial']) >= 1 and np.sum(df['y_disagreement_with_commenter']) >= 1 and np.sum(df['y_off_topic_with_article']) >= 1 and np.sum(df['y_sentiment_neutral']) >= 1 and np.sum(df['y_sentiment_positive']) >= 1 and np.sum(df['y_sentiment_negative']) >= 1 and np.sum(df['y_sentiment_mixed']) >= 1"
   ]
  },
  {
   "cell_type": "code",
   "execution_count": 73,
   "metadata": {},
   "outputs": [],
   "source": [
    "tmp = tiny.sample(10)\n",
    "while not valid_dataset(tmp):\n",
    "    tmp = tiny.sample(10)"
   ]
  },
  {
   "cell_type": "code",
   "execution_count": 77,
   "metadata": {
    "collapsed": true
   },
   "outputs": [],
   "source": [
    "tmp = tmp.fillna(False)\n",
    "tmp.to_csv('../data/datasets/Tiny/train/comments.csv', index=False)\n",
    "tmp.to_csv('../data/datasets/Tiny/test/comments.csv', index=False)"
   ]
  },
  {
   "cell_type": "code",
   "execution_count": 78,
   "metadata": {},
   "outputs": [
    {
     "data": {
      "text/plain": [
       "13715     True\n",
       "15090    False\n",
       "2027     False\n",
       "20949     True\n",
       "11389    False\n",
       "86       False\n",
       "1241      True\n",
       "254      False\n",
       "1242     False\n",
       "475      False\n",
       "Name: y_persuasive, dtype: bool"
      ]
     },
     "execution_count": 78,
     "metadata": {},
     "output_type": "execute_result"
    }
   ],
   "source": [
    "tmp['y_persuasive']"
   ]
  },
  {
   "cell_type": "code",
   "execution_count": 80,
   "metadata": {},
   "outputs": [],
   "source": [
    "save_data = data.fillna(False)\n",
    "save_data.to_csv('../data/datasets/YNACC/train/comments.csv', index=False)\n",
    "save_data.to_csv('../data/datasets/YNACC/test/comments.csv', index=False)"
   ]
  },
  {
   "cell_type": "code",
   "execution_count": null,
   "metadata": {
    "collapsed": true
   },
   "outputs": [],
   "source": []
  }
 ],
 "metadata": {
  "kernelspec": {
   "display_name": "Python 3",
   "language": "python",
   "name": "python3"
  },
  "language_info": {
   "codemirror_mode": {
    "name": "ipython",
    "version": 3
   },
   "file_extension": ".py",
   "mimetype": "text/x-python",
   "name": "python",
   "nbconvert_exporter": "python",
   "pygments_lexer": "ipython3",
   "version": "3.6.1"
  }
 },
 "nbformat": 4,
 "nbformat_minor": 2
}
