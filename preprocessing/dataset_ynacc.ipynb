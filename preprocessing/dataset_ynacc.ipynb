{
 "cells": [
  {
   "cell_type": "code",
   "execution_count": 3,
   "metadata": {
    "collapsed": true
   },
   "outputs": [],
   "source": [
    "import numpy as np\n",
    "import pandas as pd"
   ]
  },
  {
   "cell_type": "code",
   "execution_count": 149,
   "metadata": {
    "collapsed": true
   },
   "outputs": [],
   "source": [
    "# data = pd.read_csv('../data/raw/ydata-ynacc-v1_0_expert_annotations.tsv', sep='\\t')\n",
    "data = pd.read_csv('../data/datasets/German/raw.csv', sep='\\t')\n",
    "german_data = pd.read_csv('../data/datasets/German/raw_de.csv', sep='\\t')"
   ]
  },
  {
   "cell_type": "code",
   "execution_count": 117,
   "metadata": {
    "collapsed": true
   },
   "outputs": [],
   "source": [
    "grouped_data = data.groupby(['commentid'])\n",
    "def has_label(comment, column, label):\n",
    "    return np.sum(grouped_data.get_group(comment)[column].apply(lambda x: str(x).find(label) > -1)) > 0"
   ]
  },
  {
   "cell_type": "code",
   "execution_count": 118,
   "metadata": {
    "collapsed": true
   },
   "outputs": [],
   "source": [
    "data['y_persuasive'] = data.apply(lambda x: has_label(x['commentid'], 'persuasiveness', 'Persuasive', axis=1)\n",
    "data['y_audience'] = data.apply(lambda x: has_label(x['commentid'], 'intendedaudience', 'Reply to a specific commenter', axis=1)\n",
    "data['y_agreement_with_commenter'] = data.apply(lambda x: has_label(x['commentid'], 'commentagreement', 'Agreement with commenter', axis=1)\n",
    "data['y_informative'] = data.apply(lambda x: has_label(x['commentid'], 'tone', 'Informative', axis=1)\n",
    "data['y_mean'] = data.apply(lambda x: has_label(x['commentid'], 'tone', 'Mean', axis=1)\n",
    "data['y_controversial'] = data.apply(lambda x: has_label(x['commentid'], 'tone', 'Controversial', axis=1)\n",
    "data['y_disagreement_with_commenter'] = data.apply(lambda x: has_label(x['commentid'], 'commentagreement', 'Disagreement with commenter', axis=1)\n",
    "data['y_off_topic_with_article'] = data.apply(lambda x: has_label(x['commentid'], 'topic', 'Off-topic with article', axis=1)\n",
    "data['y_sentiment_neutral'] = data.apply(lambda x: has_label(x['commentid'], 'sentiment', 'neutral', axis=1)\n",
    "data['y_sentiment_positive'] = data.apply(lambda x: has_label(x['commentid'], 'sentiment', 'positive', axis=1)\n",
    "data['y_sentiment_negative'] = data.apply(lambda x: has_label(x['commentid'], 'sentiment', 'negative', axis=1)\n",
    "data['y_sentiment_mixed'] = data.apply(lambda x: has_label(x['commentid'], 'sentiment', 'mixed', axis=1)"
   ]
  },
  {
   "cell_type": "code",
   "execution_count": null,
   "metadata": {
    "collapsed": true
   },
   "outputs": [],
   "source": [
    "# data['y_persuasive'] = data['persuasiveness'].str.contains('Persuasive')\n",
    "# data['y_audience'] = data['intendedaudience'].str.contains('Reply to a specific commenter')\n",
    "# data['y_agreement_with_commenter'] = data['commentagreement'].str.contains('Agreement with commenter')\n",
    "# data['y_informative'] = data['tone'].str.contains('Informative')\n",
    "# data['y_mean'] = data['tone'].str.contains('Mean')\n",
    "# data['y_controversial'] = data['tone'].str.contains('Controversial')\n",
    "# data['y_disagreement_with_commenter'] = data['commentagreement'].str.contains('Disagreement with commenter')\n",
    "# data['y_off_topic_with_article'] = data['topic'].str.contains('Off-topic with article')\n",
    "# data['y_sentiment_neutral'] = data['sentiment'].str.contains('neutral')\n",
    "# data['y_sentiment_positive'] = data['sentiment'].str.contains('positive')\n",
    "# data['y_sentiment_negative'] = data['sentiment'].str.contains('negative')\n",
    "# data['y_sentiment_mixed'] = data['sentiment'].str.contains('mixed')"
   ]
  },
  {
   "cell_type": "code",
   "execution_count": 39,
   "metadata": {
    "collapsed": true
   },
   "outputs": [],
   "source": [
    "tiny = data.drop_duplicates(['y_persuasive', 'y_audience', 'y_agreement_with_commenter', 'y_informative', 'y_mean', 'y_controversial', 'y_disagreement_with_commenter', 'y_off_topic_with_article', 'y_sentiment_neutral', 'y_sentiment_positive', 'y_sentiment_negative', 'y_sentiment_mixed'])"
   ]
  },
  {
   "cell_type": "code",
   "execution_count": 72,
   "metadata": {
    "collapsed": true
   },
   "outputs": [],
   "source": [
    "def valid_dataset(df):\n",
    "    return np.sum(df['y_persuasive']) >= 1 and np.sum(df['y_audience']) >= 1 and np.sum(df['y_agreement_with_commenter']) >= 1 and np.sum(df['y_informative']) >= 1 and np.sum(df['y_mean']) >= 1 and np.sum(df['y_controversial']) >= 1 and np.sum(df['y_disagreement_with_commenter']) >= 1 and np.sum(df['y_off_topic_with_article']) >= 1 and np.sum(df['y_sentiment_neutral']) >= 1 and np.sum(df['y_sentiment_positive']) >= 1 and np.sum(df['y_sentiment_negative']) >= 1 and np.sum(df['y_sentiment_mixed']) >= 1"
   ]
  },
  {
   "cell_type": "code",
   "execution_count": 73,
   "metadata": {
    "collapsed": true
   },
   "outputs": [],
   "source": [
    "tmp = tiny.sample(10)\n",
    "while not valid_dataset(tmp):\n",
    "    tmp = tiny.sample(10)"
   ]
  },
  {
   "cell_type": "code",
   "execution_count": 77,
   "metadata": {
    "collapsed": true
   },
   "outputs": [],
   "source": [
    "tmp = tmp.fillna(False)\n",
    "tmp.to_csv('../data/datasets/Tiny/train/comments.csv', index=False)\n",
    "tmp.to_csv('../data/datasets/Tiny/test/comments.csv', index=False)"
   ]
  },
  {
   "cell_type": "code",
   "execution_count": 201,
   "metadata": {
    "collapsed": true
   },
   "outputs": [],
   "source": [
    "# save_data = data.fillna(False).drop_duplicates(['commentid'])\n",
    "save_data.to_csv('../data/datasets/YNACC/train/comments.csv', index=False)\n",
    "save_data.to_csv('../data/datasets/YNACC/test/comments.csv', index=False)"
   ]
  },
  {
   "cell_type": "code",
   "execution_count": 174,
   "metadata": {
    "collapsed": true
   },
   "outputs": [],
   "source": [
    "# save user meta data\n",
    "users_grouped = save_data.groupby('guid')\n",
    "user_data = {}\n",
    "for name, group in users_grouped:\n",
    "    threads_participated_in = len(np.unique(group['parentid'].apply(lambda x: str(x))))\n",
    "    user_data[name] = {\n",
    "        'comment_count': len(group),\n",
    "        'threads_participated_in': threads_participated_in,\n",
    "        'threads_initiated': np.sum(group['parentid'] == False),\n",
    "        'tu_received': np.sum(group['thumbs-up']),\n",
    "        'td_received': np.sum(group['thumbs-down']),\n",
    "        'commenting_rate': (np.max(group['timestamp']) - np.min(group['timestamp'])) / threads_participated_in\n",
    "    }\n",
    "    \n",
    "long_data = pd.read_csv('../data/raw/ydata-ynacc-v1_0_unlabeled_conversations.csv', sep=';')\n",
    "save_long_data = long_data.fillna(False).drop_duplicates(['commentid'])\n",
    "long_users_grouped = save_long_data.groupby('guid')\n",
    "for name, group in long_users_grouped:\n",
    "    threads_participated_in = len(np.unique(group['parentid'].apply(lambda x: str(x))))\n",
    "    if name in user_data:\n",
    "        data = user_data[name]\n",
    "        data['comment_count'] = data['comment_count'] + len(group)\n",
    "        data['threads_participated_in'] = data['threads_participated_in'] + threads_participated_in\n",
    "        data['threads_initiated'] = data['threads_initiated'] + np.sum(group['parentid'] == False)\n",
    "        data['tu_received'] = data['tu_received'] + np.sum(group['thumbs-up'])\n",
    "        data['td_received'] = data['td_received'] + np.sum(group['thumbs-down'])\n",
    "        data['commenting_rate'] = (data['commenting_rate'] + (np.max(group['timestamp']) - np.min(group['timestamp'])) / threads_participated_in)/2\n",
    "        user_data[name] = data\n",
    "\n",
    "users = pd.DataFrame.from_dict(user_data, orient='index').reset_index()\n",
    "users.to_csv('../data/datasets/YNACC/users.csv', index=False)"
   ]
  },
  {
   "cell_type": "markdown",
   "metadata": {},
   "source": [
    "### YNACC Train/Dev/Test Sets"
   ]
  },
  {
   "cell_type": "code",
   "execution_count": 202,
   "metadata": {
    "collapsed": true
   },
   "outputs": [],
   "source": [
    "train_ids = np.array(open('../data/raw/ydata-ynacc-v1_0_train-ids.txt', 'r').read().splitlines()).astype('int64')\n",
    "dev_ids = np.array(open('../data/raw/ydata-ynacc-v1_0_dev-ids.txt', 'r').read().splitlines()).astype('int64')\n",
    "test_ids = np.array(open('../data/raw/ydata-ynacc-v1_0_test-ids.txt', 'r').read().splitlines()).astype('int64')"
   ]
  },
  {
   "cell_type": "code",
   "execution_count": 203,
   "metadata": {
    "collapsed": true
   },
   "outputs": [],
   "source": [
    "save_data[save_data['sdid'].isin(train_ids)].to_csv('../data/datasets/YNACC-Evaluation/train/comments.csv', index=False)\n",
    "save_data[save_data['sdid'].isin(test_ids)].to_csv('../data/datasets/YNACC-Evaluation/dev/comments.csv', index=False)\n",
    "save_data[save_data['sdid'].isin(dev_ids)].to_csv('../data/datasets/YNACC-Evaluation/test/comments.csv', index=False)"
   ]
  },
  {
   "cell_type": "markdown",
   "metadata": {
    "collapsed": true
   },
   "source": [
    "# German Data"
   ]
  },
  {
   "cell_type": "code",
   "execution_count": 24,
   "metadata": {},
   "outputs": [],
   "source": [
    "data = pd.read_csv('../data/datasets/German/raw.csv', sep=',')\n",
    "german_data = pd.read_csv('../data/datasets/German/raw_de.csv', sep=';')\n",
    "\n",
    "grouped_data = data.groupby(['commentid'])\n",
    "def has_label(comment, column, label):\n",
    "    return np.sum(grouped_data.get_group(comment)[column].apply(lambda x: str(x).find(label) > -1)) > 0\n",
    "\n",
    "data['y_persuasive'] = data.apply(lambda x: has_label(x['commentid'], 'persuasiveness', 'Persuasive'), axis=1)\n",
    "data['y_audience'] = data.apply(lambda x: has_label(x['commentid'], 'intendedaudience', 'Reply to a specific commenter'), axis=1)\n",
    "data['y_agreement_with_commenter'] = data.apply(lambda x: has_label(x['commentid'], 'commentagreement', 'Agreement with commenter'), axis=1)\n",
    "data['y_informative'] = data.apply(lambda x: has_label(x['commentid'], 'tone', 'Informative'), axis=1)\n",
    "data['y_mean'] = data.apply(lambda x: has_label(x['commentid'], 'tone', 'Mean'), axis=1)\n",
    "data['y_controversial'] = data.apply(lambda x: has_label(x['commentid'], 'tone', 'Controversial'), axis=1)\n",
    "data['y_disagreement_with_commenter'] = data.apply(lambda x: has_label(x['commentid'], 'commentagreement', 'Disagreement with commenter'), axis=1)\n",
    "data['y_off_topic_with_article'] = data.apply(lambda x: has_label(x['commentid'], 'topic', 'Off-topic with article'), axis=1)\n",
    "data['y_sentiment_neutral'] = data.apply(lambda x: has_label(x['commentid'], 'sentiment', 'neutral'), axis=1)\n",
    "data['y_sentiment_positive'] = data.apply(lambda x: has_label(x['commentid'], 'sentiment', 'positive'), axis=1)\n",
    "data['y_sentiment_negative'] = data.apply(lambda x: has_label(x['commentid'], 'sentiment', 'negative'), axis=1)\n",
    "data['y_sentiment_mixed'] = data.apply(lambda x: has_label(x['commentid'], 'sentiment', 'mixed'), axis=1)\n",
    "                                       \n",
    "german_data['y_persuasive'] = np.ones(german_data.shape[0], dtype=bool)\n",
    "german_data['y_audience'] = np.ones(german_data.shape[0], dtype=bool)\n",
    "german_data['y_agreement_with_commenter'] = np.ones(german_data.shape[0], dtype=bool)\n",
    "german_data['y_informative'] = np.ones(german_data.shape[0], dtype=bool)\n",
    "german_data['y_mean'] = np.ones(german_data.shape[0], dtype=bool)\n",
    "german_data['y_controversial'] = np.ones(german_data.shape[0], dtype=bool)\n",
    "german_data['y_disagreement_with_commenter'] = np.ones(german_data.shape[0], dtype=bool)\n",
    "german_data['y_off_topic_with_article'] = np.ones(german_data.shape[0], dtype=bool)\n",
    "german_data['y_sentiment_neutral'] = np.ones(german_data.shape[0], dtype=bool)\n",
    "german_data['y_sentiment_positive'] = np.ones(german_data.shape[0], dtype=bool)\n",
    "german_data['y_sentiment_negative'] = np.ones(german_data.shape[0], dtype=bool)\n",
    "german_data['y_sentiment_mixed'] = np.ones(german_data.shape[0], dtype=bool)\n",
    "                                       \n",
    "data.to_csv('../data/datasets/German/train/comments.csv', index=False)                                \n",
    "german_data.to_csv('../data/datasets/German/test/comments.csv', index=False)   "
   ]
  },
  {
   "cell_type": "code",
   "execution_count": null,
   "metadata": {
    "collapsed": true
   },
   "outputs": [],
   "source": []
  }
 ],
 "metadata": {
  "kernelspec": {
   "display_name": "Python 3",
   "language": "python",
   "name": "python3"
  },
  "language_info": {
   "codemirror_mode": {
    "name": "ipython",
    "version": 3
   },
   "file_extension": ".py",
   "mimetype": "text/x-python",
   "name": "python",
   "nbconvert_exporter": "python",
   "pygments_lexer": "ipython3",
   "version": "3.6.1"
  }
 },
 "nbformat": 4,
 "nbformat_minor": 2
}
